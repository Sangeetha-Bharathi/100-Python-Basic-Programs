{
 "cells": [
  {
   "cell_type": "code",
   "execution_count": 9,
   "id": "22399f4e",
   "metadata": {},
   "outputs": [],
   "source": [
    "import requests\n",
    "from bs4 import BeautifulSoup as bs"
   ]
  },
  {
   "cell_type": "code",
   "execution_count": 10,
   "id": "45f93de6",
   "metadata": {},
   "outputs": [
    {
     "name": "stdout",
     "output_type": "stream",
     "text": [
      "Bitcoin price today is $23,699.24 per (BTC / USD)\n"
     ]
    }
   ],
   "source": [
    "import requests\n",
    "from bs4 import BeautifulSoup as bs\n",
    "\n",
    "URL = 'https://coinmarketcap.com/currencies/bitcoin/'\n",
    "req = requests.get(URL) #acessing URL\n",
    "\n",
    "soup = bs(req.content, 'html.parser') # Used to read html code\n",
    "\n",
    "price = soup.find('div', {'class': 'priceValue'}) # to get price from html code\n",
    "extract = price.select_one('span') # to get text value from the price\n",
    "\n",
    "print(f'Bitcoin price today is {extract.text} per (BTC / USD)')"
   ]
  },
  {
   "cell_type": "code",
   "execution_count": 11,
   "id": "8aa762a5",
   "metadata": {},
   "outputs": [],
   "source": [
    "import re # re, (REGEX) which can be used to work with Regular Expressions."
   ]
  },
  {
   "cell_type": "code",
   "execution_count": 12,
   "id": "ad54697a",
   "metadata": {},
   "outputs": [
    {
     "name": "stdout",
     "output_type": "stream",
     "text": [
      "Bitcoin price in Indian Rupees 191963844\n"
     ]
    }
   ],
   "source": [
    "bitcoin=extract.text\n",
    "india=re.sub(r'[^\\w]',' ',bitcoin)\n",
    "india=india.replace(' ', '')\n",
    "india=int(india)*81\n",
    "print(\"Bitcoin price in Indian Rupees\", india)"
   ]
  },
  {
   "cell_type": "code",
   "execution_count": null,
   "id": "b72b1442",
   "metadata": {},
   "outputs": [],
   "source": []
  }
 ],
 "metadata": {
  "kernelspec": {
   "display_name": "Python 3 (ipykernel)",
   "language": "python",
   "name": "python3"
  },
  "language_info": {
   "codemirror_mode": {
    "name": "ipython",
    "version": 3
   },
   "file_extension": ".py",
   "mimetype": "text/x-python",
   "name": "python",
   "nbconvert_exporter": "python",
   "pygments_lexer": "ipython3",
   "version": "3.9.12"
  }
 },
 "nbformat": 4,
 "nbformat_minor": 5
}
