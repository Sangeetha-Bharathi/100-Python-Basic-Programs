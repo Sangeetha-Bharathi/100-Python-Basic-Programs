{
 "cells": [
  {
   "cell_type": "code",
   "execution_count": 62,
   "id": "6fea7465",
   "metadata": {},
   "outputs": [
    {
     "name": "stdout",
     "output_type": "stream",
     "text": [
      "Enter number of row: 6\n",
      "      * \n",
      "     *  * \n",
      "    *  *  * \n",
      "   *  *  *  * \n",
      "  *  *  *  *  * \n",
      " *  *  *  *  *  * \n"
     ]
    }
   ],
   "source": [
    "def Triangle(n):\n",
    "    k=n-1\n",
    "    s=n+1\n",
    "    for i in range(1,s):\n",
    "        k=n-i\n",
    "        for j in range(0,k):\n",
    "            print(end=\" \")\n",
    "        print(\" * \"*i)\n",
    "  \n",
    "n = int(input('Enter number of row: '))\n",
    "Triangle(n)"
   ]
  },
  {
   "cell_type": "code",
   "execution_count": 17,
   "id": "2cf88ca0",
   "metadata": {},
   "outputs": [
    {
     "name": "stdout",
     "output_type": "stream",
     "text": [
      " s\n",
      "s\n"
     ]
    }
   ],
   "source": []
  },
  {
   "cell_type": "code",
   "execution_count": null,
   "id": "74ef21af",
   "metadata": {},
   "outputs": [],
   "source": []
  }
 ],
 "metadata": {
  "kernelspec": {
   "display_name": "Python 3 (ipykernel)",
   "language": "python",
   "name": "python3"
  },
  "language_info": {
   "codemirror_mode": {
    "name": "ipython",
    "version": 3
   },
   "file_extension": ".py",
   "mimetype": "text/x-python",
   "name": "python",
   "nbconvert_exporter": "python",
   "pygments_lexer": "ipython3",
   "version": "3.9.12"
  }
 },
 "nbformat": 4,
 "nbformat_minor": 5
}
