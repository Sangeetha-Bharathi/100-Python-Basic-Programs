{
 "cells": [
  {
   "cell_type": "code",
   "execution_count": 6,
   "id": "9729fa93",
   "metadata": {},
   "outputs": [
    {
     "name": "stdout",
     "output_type": "stream",
     "text": [
      "***********Welcome to calculator program****************\n",
      "Enter a operation \n",
      "1. Addition='+' \n",
      "2.Subraction='-' \n",
      "3.Multiplication='*' \n",
      "4.Division='/' \n",
      "5. Stop='.'+\n",
      "Enter First Number23\n",
      "Enter Second Number45\n",
      "Addition of two numbers is 68\n",
      "Enter a operation \n",
      "1. Addition='+' \n",
      "2.Subraction='-' \n",
      "3.Multiplication='*' \n",
      "4.Division='/' \n",
      "5. Stop='.'.\n",
      "Stopped\n"
     ]
    }
   ],
   "source": [
    "def add(no_1,no_2):\n",
    "  return no_1+no_2\n",
    "def sub(no_1,no_2):\n",
    "  return no_1-no_2\n",
    "def mul(no_1,no_2):\n",
    "  return no_1*no_2\n",
    "def div(no_1,no_2):\n",
    "  return no_1/no_2\n",
    "print(\"***********Welcome to calculator program****************\")\n",
    "run=1\n",
    "while run==1:\n",
    "  Choice=input(\"Enter a operation \\n1. Addition='+' \\n2.Subraction='-' \\n3.Multiplication='*' \\n4.Division='/' \\n5. Stop='.'\")\n",
    "  if Choice in ('+','-','*','/'):\n",
    "    no_1=int(input(\"Enter First Number\"))\n",
    "    no_2=int(input(\"Enter Second Number\"))\n",
    "    if Choice=='+':\n",
    "      print(\"Addition of two numbers is\",add(no_1,no_2))\n",
    "    elif Choice=='-':\n",
    "      print(\"Subraction of two numbers is\",sub(no_1,no_2))\n",
    "    elif Choice=='*':\n",
    "      print(\"Multiplication of two numbers is\",mul(no_1,no_2)) \n",
    "    elif Choice=='/':\n",
    "      print(\"Division of two numbers is\",div(no_1,no_2))\n",
    "  else:\n",
    "    print(\"Stopped\")\n",
    "    run=2"
   ]
  },
  {
   "cell_type": "code",
   "execution_count": null,
   "id": "6bf716fe",
   "metadata": {},
   "outputs": [],
   "source": []
  },
  {
   "cell_type": "code",
   "execution_count": null,
   "id": "8852d658",
   "metadata": {},
   "outputs": [],
   "source": []
  }
 ],
 "metadata": {
  "kernelspec": {
   "display_name": "Python 3 (ipykernel)",
   "language": "python",
   "name": "python3"
  },
  "language_info": {
   "codemirror_mode": {
    "name": "ipython",
    "version": 3
   },
   "file_extension": ".py",
   "mimetype": "text/x-python",
   "name": "python",
   "nbconvert_exporter": "python",
   "pygments_lexer": "ipython3",
   "version": "3.9.12"
  }
 },
 "nbformat": 4,
 "nbformat_minor": 5
}
