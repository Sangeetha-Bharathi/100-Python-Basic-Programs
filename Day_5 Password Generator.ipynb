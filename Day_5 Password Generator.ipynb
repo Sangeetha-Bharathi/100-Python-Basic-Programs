{
 "cells": [
  {
   "cell_type": "code",
   "execution_count": 16,
   "id": "8eeca22e",
   "metadata": {},
   "outputs": [],
   "source": [
    "import random"
   ]
  },
  {
   "cell_type": "code",
   "execution_count": 17,
   "id": "faf174f1",
   "metadata": {},
   "outputs": [
    {
     "name": "stdout",
     "output_type": "stream",
     "text": [
      "Welcome to Password Generator\n",
      "-----------------------------\n"
     ]
    }
   ],
   "source": [
    "print(\"Welcome to Password Generator\")\n",
    "print('-'*29)"
   ]
  },
  {
   "cell_type": "code",
   "execution_count": 18,
   "id": "4e7fa283",
   "metadata": {},
   "outputs": [
    {
     "name": "stdout",
     "output_type": "stream",
     "text": [
      "Enter the number of passwords 10\n",
      "Enter the length of password 10\n"
     ]
    }
   ],
   "source": [
    "number=input(\"Enter the number of passwords \")\n",
    "number=int(number)\n",
    "length=input(\"Enter the length of password \")\n",
    "length=int(length)\n",
    "chars='abcdefghijklmnopqrstuvwxyzABCDEFGHIJKLMNOPQRSTUVWXYZ123456789,./!@#$%^&**()'"
   ]
  },
  {
   "cell_type": "code",
   "execution_count": 19,
   "id": "cf6ad855",
   "metadata": {},
   "outputs": [
    {
     "name": "stdout",
     "output_type": "stream",
     "text": [
      "F3!V#O76xa\n",
      "(U)Z$D^6Gv\n",
      "M.f#u$hDJH\n",
      "sgzoDmWG*6\n",
      "LcjFH,!F7a\n",
      "81GFLk^EI1\n",
      "Oa&ijeXa/e\n",
      "d,86e#NQmj\n",
      "&2TmKq6f/#\n",
      "h1l$hf)/D8\n"
     ]
    }
   ],
   "source": [
    "for pwd in range(number):\n",
    "    password=''\n",
    "    for l in range(length):\n",
    "        password+= random.choice(chars)\n",
    "    print(password)"
   ]
  },
  {
   "cell_type": "code",
   "execution_count": null,
   "id": "676995d6",
   "metadata": {},
   "outputs": [],
   "source": []
  },
  {
   "cell_type": "code",
   "execution_count": null,
   "id": "227b40a5",
   "metadata": {},
   "outputs": [],
   "source": []
  }
 ],
 "metadata": {
  "kernelspec": {
   "display_name": "Python 3 (ipykernel)",
   "language": "python",
   "name": "python3"
  },
  "language_info": {
   "codemirror_mode": {
    "name": "ipython",
    "version": 3
   },
   "file_extension": ".py",
   "mimetype": "text/x-python",
   "name": "python",
   "nbconvert_exporter": "python",
   "pygments_lexer": "ipython3",
   "version": "3.9.12"
  }
 },
 "nbformat": 4,
 "nbformat_minor": 5
}
